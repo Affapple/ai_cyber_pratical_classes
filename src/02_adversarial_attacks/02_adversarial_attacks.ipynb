{
  "cells": [
    {
      "cell_type": "markdown",
      "metadata": {
        "id": "Ton1rdwJx4Fk"
      },
      "source": [
        "# Part 0: Imports"
      ]
    },
    {
      "cell_type": "code",
      "execution_count": null,
      "metadata": {
        "id": "Ml_dAPWFinV9"
      },
      "outputs": [],
      "source": [
        "import warnings\n",
        "warnings.filterwarnings('ignore')\n",
        "import tensorflow as tf\n",
        "import numpy as np\n",
        "from matplotlib import pyplot as plt\n",
        "\n",
        "from art.estimators.classification import KerasClassifier\n",
        "from art.attacks.evasion import FastGradientMethod, CarliniLInfMethod, CarliniL2Method , ProjectedGradientDescentTensorFlowV2, AutoProjectedGradientDescent,ProjectedGradientDescent\n",
        "\n",
        "print(tf.__version__)"
      ]
    },
    {
      "cell_type": "markdown",
      "metadata": {
        "id": "EiiPH2pGjZsc"
      },
      "source": [
        "# Part 1 : Building a Model"
      ]
    },
    {
      "cell_type": "code",
      "execution_count": null,
      "metadata": {
        "id": "JHrXkVg4i8em"
      },
      "outputs": [],
      "source": [
        "(x_train, y_train), (x_test, y_test) = tf.keras.datasets.mnist.load_data()\n",
        "x_train, x_test = x_train / 255.0, x_test / 255.0\n",
        "\n",
        "category_loss_from_logits = tf.keras.losses.SparseCategoricalCrossentropy(from_logits=True)"
      ]
    },
    {
      "cell_type": "code",
      "execution_count": null,
      "metadata": {
        "id": "FoWdmtIPjD9c"
      },
      "outputs": [],
      "source": [
        "model = tf.keras.models.Sequential([\n",
        "    tf.keras.layers.InputLayer(input_shape=(28, 28)),\n",
        "    tf.keras.layers.Flatten(),\n",
        "    tf.keras.layers.Dense(128, activation='relu'),\n",
        "    tf.keras.layers.Dropout(0.2),\n",
        "\n",
        "    tf.keras.layers.Dense(10, activation='linear')\n",
        "])\n",
        "\n",
        "model.compile(optimizer='adam',\n",
        "              loss=category_loss_from_logits,\n",
        "              metrics=['accuracy']);"
      ]
    },
    {
      "cell_type": "code",
      "execution_count": null,
      "metadata": {
        "id": "Enn6ETMTjQOa"
      },
      "outputs": [],
      "source": [
        "model.fit(x_train, y_train, epochs=5);"
      ]
    },
    {
      "cell_type": "code",
      "execution_count": null,
      "metadata": {
        "id": "3mYnKiFwjlZL"
      },
      "outputs": [],
      "source": [
        "loss_test, accuracy_test = model.evaluate(x_test, y_test)\n",
        "print('Accuracy on test data: {:4.2f}%'.format(accuracy_test * 100))"
      ]
    },
    {
      "cell_type": "code",
      "execution_count": null,
      "metadata": {
        "id": "x1cAcrIkjXZA"
      },
      "outputs": [],
      "source": [
        "#1/ Train for 5 epochs a model called \"model1\" that has only one hidden layer of 64 neurons and only *linear* activations instead of ReLU;\n",
        "#compare its accuracy with the first model\n",
        "\n",
        "\n",
        "model1 = tf.keras.models.Sequential([\n",
        "     #fill missing code\n",
        "])\n",
        "\n",
        "model1.compile(optimizer='adam',\n",
        "              loss=category_loss_from_logits,\n",
        "              metrics=['accuracy']);\n",
        "\n",
        "model1.fit(x_train,y_train, epochs=5);\n",
        "\n",
        "\n",
        "loss_test, accuracy_test = model1.evaluate(x_test, y_test)\n",
        "print('Accuracy on test data: {:4.2f}%'.format(accuracy_test * 100))"
      ]
    },
    {
      "cell_type": "code",
      "execution_count": null,
      "metadata": {
        "id": "0QVoODOpkXlj"
      },
      "outputs": [],
      "source": [
        "#2/ Train for 5 epochs a model called \"model2\" that has 5 dense layer of 128 neurons and a relu activation and no dropout; compare its accuracy with the first model\n",
        "\n",
        "model2 = tf.keras.models.Sequential([\n",
        "      #fill missing code\n",
        "])\n",
        "\n",
        "model2.compile(optimizer='adam',\n",
        "              loss=category_loss_from_logits,\n",
        "              metrics=['accuracy']);\n",
        "\n",
        "model2.fit(x_train, y_train, epochs=5);\n",
        "loss_test, accuracy_test = model2.evaluate(x_test, y_test)\n",
        "print('Accuracy on test data: {:4.2f}%'.format(accuracy_test * 100))"
      ]
    },
    {
      "cell_type": "code",
      "execution_count": null,
      "metadata": {
        "id": "rp_fVcXu4u_s"
      },
      "outputs": [],
      "source": [
        "#2bis/ (OPTIONAL CHALLENGE /!\\) Train for 5 epochs a \"model3\" that obtains more 99% of accuracy on *test* data (hint: you might want to use 2D convolutional layers,i.e. tf.keras.layers.Conv2D(...), and MaxPool layers, i.e.  tf.keras.layers.MaxPooling2D(...))\n",
        "model3 = tf.keras.models.Sequential([\n",
        "     #fill missing code\n",
        "])\n",
        "\n",
        "model3.compile(optimizer='adam',\n",
        "              loss=category_loss_from_logits,\n",
        "              metrics=['accuracy']);\n",
        "\n",
        "model3.fit(x_train, y_train, epochs=5);\n",
        "loss_test, accuracy_test = model3.evaluate(x_test, y_test)\n",
        "print('Accuracy on test data: {:4.2f}%'.format(accuracy_test * 100))"
      ]
    },
    {
      "cell_type": "markdown",
      "metadata": {
        "id": "JY1uf5-SmXl0"
      },
      "source": [
        "# Part 2: Simple Whitebox Adversarial Attacks"
      ]
    },
    {
      "cell_type": "code",
      "execution_count": null,
      "metadata": {
        "id": "DO4qaH3L9iRO"
      },
      "outputs": [],
      "source": [
        "classifier = KerasClassifier(model=model, clip_values=(0, 1), use_logits=True, )\n",
        "x_test = x_test[0:100]\n",
        "y_test = y_test[0:100]"
      ]
    },
    {
      "cell_type": "markdown",
      "metadata": {
        "id": "GCfPc-pl9jiq"
      },
      "source": [
        "## FGSM attacks"
      ]
    },
    {
      "cell_type": "code",
      "execution_count": null,
      "metadata": {
        "id": "zGEJ-H8Wm5rU"
      },
      "outputs": [],
      "source": [
        "attack_fgsm = FastGradientMethod(estimator=classifier, eps=16/255, norm=np.inf)"
      ]
    },
    {
      "cell_type": "code",
      "execution_count": null,
      "metadata": {
        "id": "Ed5K_ZQpm_Xf"
      },
      "outputs": [],
      "source": [
        "x_test_adv = attack_fgsm.generate(x_test)"
      ]
    },
    {
      "cell_type": "code",
      "execution_count": null,
      "metadata": {
        "id": "eLRRd8fOnD-g"
      },
      "outputs": [],
      "source": [
        "loss_test, accuracy_test = model.evaluate(x_test_adv, y_test)\n",
        "perturbation = np.mean(np.abs((x_test_adv - x_test)))\n",
        "\n",
        "print('Accuracy on adversarial test data: {:4.2f}%'.format(accuracy_test * 100))\n",
        "print('Average perturbation: {:4.2f}'.format(perturbation))"
      ]
    },
    {
      "cell_type": "code",
      "execution_count": null,
      "metadata": {
        "id": "C5taeLLHnGu4"
      },
      "outputs": [],
      "source": [
        "y_pred_0 = model.predict(x_test[0:1])\n",
        "print(f\"predicted class of original image: {y_pred_0.argmax()}\")\n",
        "plt.matshow(x_test[0])\n",
        "plt.show()"
      ]
    },
    {
      "cell_type": "code",
      "execution_count": null,
      "metadata": {
        "id": "7vy12LkInI_z"
      },
      "outputs": [],
      "source": [
        "y_pred_0 = model.predict(x_test_adv[0:1])\n",
        "print(f\"predicted class of adversarial attack: {y_pred_0.argmax()}\")\n",
        "plt.matshow(x_test_adv[0])\n",
        "plt.show()"
      ]
    },
    {
      "cell_type": "code",
      "execution_count": null,
      "metadata": {
        "id": "0wEGBIVl_jNi"
      },
      "outputs": [],
      "source": [
        "#3/ Run an FGSM attack on the norm Inf and 2 with EQUIVALENT epsilons, e.g. eps=4/255 for the norm Inf and eps=(16/255)*sqrt(784) for the l2 norm. Display the results. Which one leads to the best image?\n",
        "\n",
        "attack_fgsm = FastGradientMethod(\n",
        "         #fill missing code\n",
        ")\n",
        "x_test_adv = attack_fgsm.generate(x_test)\n",
        "\n",
        "loss_test, accuracy_test = model.evaluate(x_test_adv, y_test)\n",
        "perturbation = np.mean(np.abs((x_test_adv - x_test)))\n",
        "\n",
        "print('Accuracy on adversarial test data: {:4.2f}%'.format(accuracy_test * 100))\n",
        "print('Average perturbation: {:4.5f}'.format(perturbation))\n",
        "y_pred_0 = model.predict(x_test_adv[0:1])\n",
        "print(f\"predicted class of adversarial attack: {y_pred_0.argmax()}\")\n",
        "plt.matshow(x_test_adv[0])\n",
        "plt.show()"
      ]
    },
    {
      "cell_type": "code",
      "execution_count": null,
      "metadata": {
        "id": "FpnrWjwuVfas"
      },
      "outputs": [],
      "source": [
        "#3/ Run an FGSM attack on the norm Inf and 2 with EQUIVALENT epsilons, e.g. eps=16/255 for the norm Inf and eps=(16/255)*sqrt(784) for the l2 norm. Display the results. Which one leads to the best image?\n",
        "\n",
        "attack_fgsm = FastGradientMethod(\n",
        "         #fill missing code\n",
        ")\n",
        "x_test_adv = attack_fgsm.generate(x_test)\n",
        "\n",
        "loss_test, accuracy_test = model.evaluate(x_test_adv, y_test)\n",
        "perturbation = np.mean(np.abs((x_test_adv - x_test)))\n",
        "\n",
        "print('Accuracy on adversarial test data: {:4.2f}%'.format(accuracy_test * 100))\n",
        "print('Average perturbation: {:4.5f}'.format(perturbation))\n",
        "y_pred_0 = model.predict(x_test_adv[0:1])\n",
        "print(f\"predicted class of adversarial attack: {y_pred_0.argmax()}\")\n",
        "plt.matshow(x_test_adv[0])\n",
        "plt.show()"
      ]
    },
    {
      "cell_type": "markdown",
      "metadata": {
        "id": "SmCDD3m19nJY"
      },
      "source": [
        "# Part 3: Other Adversarial Attacks (Carlini-Wagner, APGD...)"
      ]
    },
    {
      "cell_type": "code",
      "execution_count": null,
      "metadata": {
        "id": "_okT6oemn3Fh"
      },
      "outputs": [],
      "source": [
        "attack_cw = CarliniL2Method(classifier=classifier,\n",
        "                              max_iter=20,\n",
        "                              learning_rate=0.01,\n",
        "                              initial_const=1e0,\n",
        "                              )"
      ]
    },
    {
      "cell_type": "code",
      "execution_count": null,
      "metadata": {
        "id": "-Et1THz79shy"
      },
      "outputs": [],
      "source": [
        "x_test_adv_cw = attack_cw.generate(x_test[:100])"
      ]
    },
    {
      "cell_type": "code",
      "execution_count": null,
      "metadata": {
        "id": "rBQvY7YPYuDg"
      },
      "outputs": [],
      "source": [
        "idx = 0\n",
        "plt.matshow(x_test_adv_cw[idx])\n",
        "y_pred_adv_cw = model.predict(x_test_adv_cw[idx:idx+1])\n",
        "print(f\"Predicted class: {y_pred_adv_cw.argmax()}\")\n",
        "print(f\"L2 dist to original image {np.linalg.norm(x_test_adv_cw[idx] - x_test[idx],):.2f}\")\n",
        "plt.show()"
      ]
    },
    {
      "cell_type": "code",
      "execution_count": null,
      "metadata": {
        "id": "mXr3L40J9u5I"
      },
      "outputs": [],
      "source": [
        "loss_test, accuracy_test = model.evaluate(x_test_adv_cw, y_test[:100])\n",
        "perturbation = np.mean(np.abs((x_test_adv_cw - x_test)))\n",
        "l_2_perturbation = np.linalg.norm(x_test_adv_cw - x_test,axis=(1,2),)\n",
        "l_2_perturbation_mean_cw = np.mean(l_2_perturbation)\n",
        "print('Accuracy on adversarial test data: {:4.2f}%'.format(accuracy_test * 100))\n",
        "print('Average perturbation: {:4.2f}'.format(perturbation))\n",
        "print('Average l2 perturbation: {:4.2f}'.format(l_2_perturbation_mean))"
      ]
    },
    {
      "cell_type": "code",
      "execution_count": null,
      "metadata": {
        "id": "3IKJtyW4Aruz"
      },
      "outputs": [],
      "source": [
        "#4/ Generate a new FGSM attack with the same l2 perturbation as the previous CW and compare their effectiveness: i.e. %of success for similar average l2 perturbation\n",
        "\n",
        "eps= l_2_perturbation_mean_cw\n",
        "attack_fgsm = FastGradientMethod(\n",
        "\n",
        "                                      #fill missing code\n",
        ")\n",
        "x_test_adv = attack_fgsm.generate(x_test)\n",
        "\n",
        "loss_test, accuracy_test = model.evaluate(x_test_adv, y_test)\n",
        "\n",
        "\n",
        "l_2_perturbation = np.linalg.norm(x_test_adv - x_test,axis=(1,2))\n",
        "l_2_perturbation_mean = np.mean(l_2_perturbation)\n",
        "\n",
        "\n",
        "print('Accuracy on adversarial test data: {:4.2f}%'.format(accuracy_test * 100))\n",
        "print('Average perturbation: {:4.2f}'.format(perturbation))\n",
        "print('Average l2 perturbation: {:4.2f}'.format(l_2_perturbation_mean))\n",
        "\n",
        "idx = 0\n",
        "plt.matshow(x_test_adv[idx])\n",
        "y_pred_adv = model.predict(x_test_adv[idx:idx+1])\n",
        "print(f\"Predicted class: {y_pred_adv.argmax()}\")\n",
        "print(f\"L2 dist to original image {np.linalg.norm(x_test_adv[idx] - x_test[idx],):.2f}\")\n",
        "plt.show()"
      ]
    },
    {
      "cell_type": "code",
      "execution_count": null,
      "metadata": {
        "id": "myyHVFOzjxW-"
      },
      "outputs": [],
      "source": [
        "#5/ Generate a new APGD attack (class AutoProjectedGradientDescent) with the same (or lower) average l2 perturbation as the previous CW and FGSM, and compare their effectiveness\n",
        "# to limit computation time you can set 'max_iter=10' and \"nb_random_init=1\", in the function arguments\n",
        "eps= l_2_perturbation_mean_cw\n",
        "\n",
        "attack_apgd = AutoProjectedGradientDescent(\n",
        "         #fill missing code\n",
        "\n",
        ")\n",
        "x_test_adv_apgd = attack_apgd.generate(x_test)\n",
        "\n",
        "loss_test, accuracy_test = model.evaluate(x_test_adv_apgd, y_test)\n",
        "\n",
        "\n",
        "l_2_perturbation = np.linalg.norm(x_test_adv_apgd - x_test,axis=(1,2))\n",
        "l_2_perturbation_mean = np.mean(l_2_perturbation)\n",
        "print(l_2_perturbation_mean)\n",
        "\n",
        "print('Accuracy on adversarial test data: {:4.2f}%'.format(accuracy_test * 100))\n",
        "print('Average perturbation: {:4.2f}'.format(perturbation))\n",
        "print('Average l2 perturbation: {:4.2f}'.format(l_2_perturbation_mean))\n",
        "idx = 0\n",
        "plt.matshow(x_test_adv_apgd[idx])\n",
        "y_pred_adv_apgd = model.predict(x_test_adv_apgd[idx:idx+1])\n",
        "print(f\"Predicted class: {y_pred_adv_apgd.argmax()}\")\n",
        "print(f\"L2 dist to original image {np.linalg.norm(x_test_adv_apgd[idx] - x_test[idx],):.2f}\")\n",
        "plt.show()"
      ]
    },
    {
      "cell_type": "code",
      "execution_count": null,
      "metadata": {
        "id": "-Wxqf1x3lT4B"
      },
      "outputs": [],
      "source": [
        "#5bis/ /!\\ OPTIONAL CHALLENGE: find an adversarial attack in the same library (https://adversarial-robustness-toolbox.readthedocs.io/en/latest/modules/attacks/evasion.html)\n",
        "#having better results with the SAME l2 perturbation\n",
        "\n",
        "eps= l_2_perturbation_mean_cw\n",
        "attack_? = ?( eps=eps, norm=2, #find a more efficient attack\n",
        "\n",
        ")"
      ]
    },
    {
      "cell_type": "markdown",
      "metadata": {
        "id": "3R8kBSG3BJ-F"
      },
      "source": [
        "# Part 4: Transfer attacks"
      ]
    },
    {
      "cell_type": "code",
      "execution_count": null,
      "metadata": {
        "id": "YP4Kez2yBSxd"
      },
      "outputs": [],
      "source": [
        "classifier_source = KerasClassifier(model=model2, clip_values=(0, 1))\n",
        "classifier_target = KerasClassifier(model=model, clip_values=(0, 1))\n",
        "\n",
        "attack_fgsm = FastGradientMethod(estimator=classifier_source, eps=16/255, norm=np.inf)"
      ]
    },
    {
      "cell_type": "code",
      "execution_count": null,
      "metadata": {
        "id": "_ogUhffRBkez"
      },
      "outputs": [],
      "source": [
        "x_transfer_adv = attack_fgsm.generate(x_test)"
      ]
    },
    {
      "cell_type": "code",
      "execution_count": null,
      "metadata": {
        "id": "8lxo9WgsBpaX"
      },
      "outputs": [],
      "source": [
        "perturbation = np.mean(np.abs((x_transfer_adv - x_test)))\n",
        "loss_source, accuracy_source = model2.evaluate(x_transfer_adv, y_test)\n",
        "loss_target, accuracy_target = model.evaluate(x_transfer_adv, y_test)\n",
        "\n",
        "print('Average perturbation: {:4.2f}'.format(perturbation))\n",
        "print('Accuracy on adversarial test data for source model: {:4.2f}%'.format(accuracy_source * 100))\n",
        "print('Accuracy on adversarial test data for target model: {:4.2f}%'.format(accuracy_target * 100))"
      ]
    },
    {
      "cell_type": "code",
      "execution_count": null,
      "metadata": {
        "id": "0o1CVNkWCqdO"
      },
      "outputs": [],
      "source": [
        "#6/ Compare the transferability of the attack when using the norm 2 and eps=0.3"
      ]
    },
    {
      "cell_type": "code",
      "execution_count": null,
      "metadata": {
        "id": "1s9asdQ1QPoo"
      },
      "outputs": [],
      "source": [
        "attack_fgsm = FastGradientMethod(estimator=classifier_source, eps=0.3, norm=2)"
      ]
    },
    {
      "cell_type": "code",
      "execution_count": null,
      "metadata": {
        "id": "vrFrCwt1QY2b"
      },
      "outputs": [],
      "source": [
        "x_transfer_adv = attack_fgsm.generate(x_test)"
      ]
    },
    {
      "cell_type": "code",
      "execution_count": null,
      "metadata": {
        "id": "F8tlnnfHRGmw"
      },
      "outputs": [],
      "source": [
        "perturbation = np.mean(np.abs((x_transfer_adv - x_test)))\n",
        "loss_source, accuracy_source = model2.evaluate(x_transfer_adv, y_test)\n",
        "loss_target, accuracy_target = model.evaluate(x_transfer_adv, y_test)\n",
        "\n",
        "print('Average perturbation: {:4.2f}'.format(perturbation))\n",
        "print('Accuracy on adversarial test data for source model: {:4.2f}%'.format(accuracy_source * 100))\n",
        "print('Accuracy on adversarial test data for target model: {:4.2f}%'.format(accuracy_target * 100))"
      ]
    },
    {
      "cell_type": "markdown",
      "metadata": {
        "id": "heZ7VZs2C4U8"
      },
      "source": [
        "# Part 5: Adversarial Attack defenses"
      ]
    },
    {
      "cell_type": "markdown",
      "metadata": {
        "id": "O91YskXhDfKe"
      },
      "source": [
        "## Adversarial training"
      ]
    },
    {
      "cell_type": "code",
      "execution_count": null,
      "metadata": {
        "id": "FJ3N-8N2DhhL"
      },
      "outputs": [],
      "source": [
        "from art import config\n",
        "from keras.models import load_model\n",
        "from art.utils import get_file, load_dataset\n",
        "\n",
        "(x_train, y_train), (x_test, y_test), min_, max_ = load_dataset('mnist')\n"
      ]
    },
    {
      "cell_type": "code",
      "execution_count": null,
      "metadata": {
        "id": "JDOLm1QlEWw-"
      },
      "outputs": [],
      "source": [
        "path = get_file('mnist_cnn_original.h5', extract=False, path=config.ART_DATA_PATH,\n",
        "                url='https://www.dropbox.com/s/p2nyzne9chcerid/mnist_cnn_original.h5?dl=1')\n",
        "classifier_model = load_model(path)\n",
        "classifier = KerasClassifier(clip_values=(min_, max_), model=classifier_model, use_logits=False)"
      ]
    },
    {
      "cell_type": "code",
      "execution_count": null,
      "metadata": {
        "id": "5ImPrFW8EB5c"
      },
      "outputs": [],
      "source": [
        "classifier_model.summary()"
      ]
    },
    {
      "cell_type": "code",
      "execution_count": null,
      "metadata": {
        "id": "ZShudYaWEmFR"
      },
      "outputs": [],
      "source": [
        "x_test_pred = np.argmax(classifier.predict(x_test), axis=1)\n",
        "nb_correct_pred = np.sum(x_test_pred == np.argmax(y_test, axis=1))\n",
        "\n",
        "print(\"Original test data:\")\n",
        "print(\"Correctly classified: {}\".format(nb_correct_pred))\n",
        "print(\"Incorrectly classified: {}\".format(len(x_test)-nb_correct_pred))\n",
        "print(\"Accuracy: {}\".format(nb_correct_pred/len(x_test)*100))"
      ]
    },
    {
      "cell_type": "code",
      "execution_count": null,
      "metadata": {
        "id": "0XHHT1q9FAgA"
      },
      "outputs": [],
      "source": [
        "attacker = FastGradientMethod(classifier, eps=0.5)\n",
        "x_test_adv = attacker.generate(x_test, y_test)"
      ]
    },
    {
      "cell_type": "code",
      "execution_count": null,
      "metadata": {
        "id": "pUIbMX4iFKQo"
      },
      "outputs": [],
      "source": [
        "x_test_adv_pred = np.argmax(classifier.predict(x_test_adv), axis=1)\n",
        "nb_correct_adv_pred = np.sum(x_test_adv_pred == np.argmax(y_test, axis=1))\n",
        "\n",
        "print(\"Adversarial test data:\")\n",
        "print(\"Correctly classified: {}\".format(nb_correct_adv_pred))\n",
        "print(\"Incorrectly classified: {}\".format(len(x_test_adv)-nb_correct_adv_pred))\n",
        "print(\"Accuracy: {}\".format(nb_correct_adv_pred/len(x_test_adv)*100))"
      ]
    },
    {
      "cell_type": "code",
      "execution_count": null,
      "metadata": {
        "id": "06YNipg1EW4W"
      },
      "outputs": [],
      "source": [
        "path = get_file('mnist_cnn_robust.h5', extract=False, path=config.ART_DATA_PATH,\n",
        "                url='https://www.dropbox.com/s/yutsncaniiy5uy8/mnist_cnn_robust.h5?dl=1')\n",
        "robust_classifier_model = load_model(path)\n",
        "robust_classifier = KerasClassifier(clip_values=(min_, max_), model=robust_classifier_model, use_logits=False)"
      ]
    },
    {
      "cell_type": "code",
      "execution_count": null,
      "metadata": {
        "id": "yOz6f7kdEPrn"
      },
      "outputs": [],
      "source": [
        "robust_classifier_model.summary()"
      ]
    },
    {
      "cell_type": "code",
      "execution_count": null,
      "metadata": {
        "id": "qeGdkj1qFWCj"
      },
      "outputs": [],
      "source": [
        "x_test_robust_pred = np.argmax(robust_classifier.predict(x_test), axis=1)\n",
        "nb_correct_robust_pred = np.sum(x_test_robust_pred == np.argmax(y_test, axis=1))\n",
        "\n",
        "print(\"Original test data:\")\n",
        "print(\"Correctly classified: {}\".format(nb_correct_robust_pred))\n",
        "print(\"Incorrectly classified: {}\".format(len(x_test)-nb_correct_robust_pred))\n",
        "print(\"Accuracy: {}\".format(nb_correct_robust_pred/len(x_test)*100))"
      ]
    },
    {
      "cell_type": "code",
      "execution_count": null,
      "metadata": {
        "id": "ILhQ0EHtFbRK"
      },
      "outputs": [],
      "source": [
        "attacker_robust = FastGradientMethod(robust_classifier, eps=0.5)\n",
        "x_test_adv_robust = attacker_robust.generate(x_test, y_test)"
      ]
    },
    {
      "cell_type": "code",
      "execution_count": null,
      "metadata": {
        "id": "5pH2L8kSFehk"
      },
      "outputs": [],
      "source": [
        "x_test_adv_robust_pred = np.argmax(robust_classifier.predict(x_test_adv_robust), axis=1)\n",
        "nb_correct_adv_robust_pred = np.sum(x_test_adv_robust_pred == np.argmax(y_test, axis=1))\n",
        "\n",
        "print(\"Adversarial test data:\")\n",
        "print(\"Correctly classified: {}\".format(nb_correct_adv_robust_pred))\n",
        "print(\"Incorrectly classified: {}\".format(len(x_test_adv_robust)-nb_correct_adv_robust_pred))\n",
        "print(\"Accuracy: {}\".format(nb_correct_adv_robust_pred/len(x_test_adv_robust)*100))"
      ]
    },
    {
      "cell_type": "markdown",
      "metadata": {
        "id": "uctd81stFtuL"
      },
      "source": [
        "### Against stronger attacks: PGD"
      ]
    },
    {
      "cell_type": "code",
      "execution_count": null,
      "metadata": {
        "id": "NSzo64ryFx3F"
      },
      "outputs": [],
      "source": [
        "from art.attacks.evasion import ProjectedGradientDescent\n",
        "attacker_pgd = ProjectedGradientDescent(estimator=classifier, eps=0.5, eps_step=0.01, max_iter=100, verbose=False)\n",
        "attacker_robust_pgd = ProjectedGradientDescent(estimator=robust_classifier, eps=0.5, eps_step=0.01, max_iter=100, verbose=False)"
      ]
    },
    {
      "cell_type": "code",
      "execution_count": null,
      "metadata": {
        "id": "5_tFBTmWFemu"
      },
      "outputs": [],
      "source": [
        "eps_range = [0.01, 0.02, 0.03, 0.04, 0.05, 0.1, 0.2, 0.3, 0.4, 0.5, 0.6]\n",
        "eps_range = [0.05, 0.1, 0.2, 0.3, 0.4, 0.5, 0.6]\n",
        "nb_correct_original = []\n",
        "nb_correct_robust = []\n",
        "\n",
        "nb_samples = 100\n",
        "\n",
        "for eps in eps_range:\n",
        "    print(\"Running eps {}\".format(eps))\n",
        "    attacker_pgd.set_params(**{'eps': eps})\n",
        "    attacker_robust_pgd.set_params(**{'eps': eps})\n",
        "    x_test_adv = attacker_pgd.generate(x_test[:nb_samples], y_test[:nb_samples])\n",
        "    x_test_adv_robust = attacker_robust_pgd.generate(x_test[:nb_samples], y_test[:nb_samples])\n",
        "\n",
        "    x_test_adv_pred = np.argmax(classifier.predict(x_test_adv), axis=1)\n",
        "    nb_correct_original += [np.sum(x_test_adv_pred == np.argmax(y_test[:nb_samples], axis=1)) / nb_samples]\n",
        "\n",
        "    x_test_adv_robust_pred = np.argmax(robust_classifier.predict(x_test_adv_robust), axis=1)\n",
        "    nb_correct_robust += [np.sum(x_test_adv_robust_pred == np.argmax(y_test[:nb_samples], axis=1)) / nb_samples]\n",
        "\n",
        "eps_range = [0] + eps_range\n",
        "nb_correct_original = [nb_correct_pred / 10000] + nb_correct_original\n",
        "nb_correct_robust = [nb_correct_robust_pred / 10000] + nb_correct_robust\n",
        "\n"
      ]
    },
    {
      "cell_type": "code",
      "execution_count": null,
      "metadata": {
        "id": "7Yi8KmCSF7zC"
      },
      "outputs": [],
      "source": [
        "fig, ax = plt.subplots()\n",
        "ax.plot(np.array(eps_range), np.array(nb_correct_original), 'b--', label='Original classifier')\n",
        "ax.plot(np.array(eps_range), np.array(nb_correct_robust), 'r--', label='Robust classifier')\n",
        "\n",
        "legend = ax.legend(loc='upper right', shadow=True, fontsize='large')\n",
        "\n",
        "plt.xlabel('Peturbation size (eps, L-Inf)')\n",
        "plt.ylabel('Classification Accuracy')\n",
        "plt.show()"
      ]
    },
    {
      "cell_type": "code",
      "execution_count": null,
      "metadata": {
        "id": "S5LE5U4Ad0hk"
      },
      "outputs": [],
      "source": [
        "#8/ What happens when we reduce the number of max_iter to 10 ? Which model becomes better?"
      ]
    },
    {
      "cell_type": "markdown",
      "metadata": {
        "id": "2LfAEg8jDg3u"
      },
      "source": [
        "\n",
        "\n",
        "1.   List item\n",
        "2.   List item\n",
        "\n"
      ]
    }
  ],
  "metadata": {
    "colab": {
      "machine_shape": "hm",
      "provenance": []
    },
    "kernelspec": {
      "display_name": "02-adversarial-attacks",
      "language": "python",
      "name": "python3"
    },
    "language_info": {
      "codemirror_mode": {
        "name": "ipython",
        "version": 3
      },
      "file_extension": ".py",
      "mimetype": "text/x-python",
      "name": "python",
      "nbconvert_exporter": "python",
      "pygments_lexer": "ipython3",
      "version": "3.11.9"
    }
  },
  "nbformat": 4,
  "nbformat_minor": 0
}
