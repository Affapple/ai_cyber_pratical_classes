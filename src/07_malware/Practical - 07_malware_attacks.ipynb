{
 "cells": [
  {
   "cell_type": "markdown",
   "id": "5366a826",
   "metadata": {},
   "source": [
    "# Practical 07 - Evasion Attacks on Static Malware Detection"
   ]
  },
  {
   "cell_type": "markdown",
   "id": "19fabb51",
   "metadata": {},
   "source": [
    "Assignment for the lecture \"AI Security for Malware Detection\" in the 2025 AI and Cybersecurity course at the University of Luxembourg.\n",
    "\n",
    "_Hamid Bostani (hamid.bostani@uni.lu) and Mashal Zainab (mashal.zainab@uni.lu)_\n",
    "\n",
    "_31 October 2025_"
   ]
  },
  {
   "cell_type": "markdown",
   "id": "0786274d",
   "metadata": {},
   "source": [
    "-----\n",
    "\n",
    "**Name:**\n",
    "\n",
    "-----"
   ]
  },
  {
   "cell_type": "markdown",
   "id": "90ad73f2",
   "metadata": {},
   "source": [
    "In this assignment, you will:\n",
    "- Train and evaluate a static Android malware classifier.\n",
    "- Perform evasion attacks in the feature-space.\n",
    "- Measure the performance of the malware classifier and the evasion attacks using standard metrics.\n",
    "- Analyze the impact of attack parameters.\n",
    "- Interpret findings in the context of real-world malware manipulation.\n",
    "\n",
    "**Instructions:**\n",
    "- Fill in your name.\n",
    "- Answer the questions and complete the code where necessary.\n",
    "- Run the notebook cells in order. Wherever you see `# TODO` implement the requested functionality.\n",
    "- Keep all function signatures unchanged (unless noted) so autograders can run your notebook.\n",
    "- Place the dataset files (`dataset-X.json`, `dataset-Y.json`, `dataset-meta.json`) in a local `data/` folder or update `config['path']` accordingly.\n",
    "- This file is formatted with interactive cells (\"# %%\") so you can run it in Jupyter, VSCode, or other IDEs that understand Python interactive cells.\n",
    "- Save the notebook as a PDF and submit that in Moodle together with the `.ipynb` notebook file.\n",
    "- The easiest way to create a PDF of your notebook is to use File > Print Preview when running your notebook in the browser. "
   ]
  },
  {
   "cell_type": "markdown",
   "id": "a477ece8",
   "metadata": {},
   "source": [
    "### Setup\n",
    "\n",
    "Run the following cell to import required packages and load configuration:"
   ]
  },
  {
   "cell_type": "code",
   "execution_count": null,
   "id": "06ca1616",
   "metadata": {},
   "outputs": [],
   "source": [
    "import os\n",
    "import numpy as np\n",
    "import json\n",
    "import sys\n",
    "from sklearn.model_selection import train_test_split\n",
    "from sklearn.svm import LinearSVC\n",
    "from sklearn.metrics import confusion_matrix,f1_score\n",
    "import random\n",
    "from scipy.sparse import csr_matrix\n",
    "\n",
    "config = {\"path\" : \"/path/to/data/folder/\", \"svm_c\": 0.0006, \"no_modifiable_features\": 20}\n",
    "\n"
   ]
  },
  {
   "cell_type": "markdown",
   "id": "e826ddc5",
   "metadata": {},
   "source": [
    "### Dataset Preparation Code"
   ]
  },
  {
   "cell_type": "code",
   "execution_count": 2,
   "id": "d9cdfb85",
   "metadata": {},
   "outputs": [],
   "source": [
    "def dataset_preparation():\n",
    "    path = config[\"path\"]\n",
    "    try:\n",
    "        X_filename = os.path.join(path ,\"dataset-X.json\")\n",
    "        with open(X_filename ,'rb') as f:\n",
    "            X = json.load(f)\n",
    "\n",
    "        Y_finename = os.path.join(path ,\"dataset-Y.json\")\n",
    "        with open(Y_finename ,'rt') as f:\n",
    "            Y = json.load(f)\n",
    "\n",
    "        meta_filename = os.path.join(path ,\"dataset-meta.json\")\n",
    "        with open(meta_filename, 'rt') as f:\n",
    "            meta = json.load(f)\n",
    "\n",
    "        X, y, vec = vectorize(X, Y)\n",
    "\n",
    "        random_state = 60\n",
    "        train_idxs, test_idxs = train_test_split(\n",
    "            range(X.shape[0]),\n",
    "            stratify=y,\n",
    "            test_size=0.33,\n",
    "            random_state=random_state)\n",
    "        X_train = X[train_idxs]\n",
    "        X_test = X[test_idxs]\n",
    "        y_train = y[train_idxs]\n",
    "        y_test = y[test_idxs]\n",
    "        m_train = [meta[i] for i in train_idxs]\n",
    "        m_test = [meta[i] for i in test_idxs]\n",
    "\n",
    "\n",
    "        column_idxs = perform_feature_selection(X_train, y_train)\n",
    "        X_train = X_train[:, column_idxs]\n",
    "        X_test = X_test[:, column_idxs]\n",
    "\n",
    "        return X_train, y_train, X_test, y_test, m_train, m_test, vec, np.array(vec.feature_names_)[column_idxs]\n",
    "\n",
    "    except Exception as ex:\n",
    "        print(ex)\n",
    "        sys.exit(1)\n",
    "\n",
    "def perform_feature_selection(X_train, y_train):\n",
    "    _num_features = 10000\n",
    "    if _num_features is not None:\n",
    "        selector = LinearSVC(C=1)\n",
    "        selector.fit(X_train, y_train)\n",
    "        cols = np.argsort(np.abs(selector.coef_[0]))[::-1]\n",
    "        cols = cols[:_num_features]\n",
    "    else:\n",
    "        cols = [i for i in range(X_train.shape[1])]\n",
    "    return cols\n",
    "\n",
    "def vectorize(X, y):\n",
    "    from sklearn.feature_extraction import DictVectorizer\n",
    "    vec = DictVectorizer()\n",
    "    X = vec.fit_transform(X)\n",
    "    y = np.asarray(y)\n",
    "    return X, y, vec\n"
   ]
  },
  {
   "cell_type": "markdown",
   "id": "dd1933ff",
   "metadata": {},
   "source": [
    "### Load Data & Build Classifier"
   ]
  },
  {
   "cell_type": "code",
   "execution_count": 5,
   "id": "5d56e313",
   "metadata": {},
   "outputs": [
    {
     "name": "stderr",
     "output_type": "stream",
     "text": [
      "/Users/mashal.zainab/Desktop/my_project/venv/lib/python3.13/site-packages/sklearn/svm/_base.py:1250: ConvergenceWarning: Liblinear failed to converge, increase the number of iterations.\n",
      "  warnings.warn(\n"
     ]
    },
    {
     "name": "stdout",
     "output_type": "stream",
     "text": [
      "Dataset Loaded & Model Trained ✅\n"
     ]
    }
   ],
   "source": [
    "X_train, y_train, X_test, y_test, m_train, m_test, _, feature_set = dataset_preparation()\n",
    "\n",
    "model = LinearSVC(C=config[\"svm_c\"])\n",
    "model.fit(X_train, y_train)\n",
    "\n",
    "y_pred = model.predict(X_test)\n",
    "tn, fp, fn, tp = confusion_matrix(y_test, y_pred).ravel()\n",
    "\n",
    "print(\"Dataset Loaded & Model Trained ✅\")\n"
   ]
  },
  {
   "cell_type": "markdown",
   "id": "223bc99f",
   "metadata": {},
   "source": [
    "##### Q1. Dataset Overview and Classifier Configuration (2 points)"
   ]
  },
  {
   "cell_type": "markdown",
   "id": "e9ad95d1",
   "metadata": {},
   "source": [
    "##### Q1a. Report the dimensions of the training and the test set."
   ]
  },
  {
   "cell_type": "code",
   "execution_count": 8,
   "id": "ad38b8e7",
   "metadata": {},
   "outputs": [],
   "source": [
    "# TODO: Print dimentions of the training and the test set. "
   ]
  },
  {
   "cell_type": "markdown",
   "id": "f14ec90f",
   "metadata": {},
   "source": [
    "##### Q1b. Report the number of malware samples in each set.\n",
    "What to do: Count how many malware (label 1) and benign (label 0) samples are in both the training and test splits and print them. "
   ]
  },
  {
   "cell_type": "code",
   "execution_count": 7,
   "id": "53af046d",
   "metadata": {},
   "outputs": [],
   "source": [
    "# TODO: Count malware class occurrences in y_train and y_test"
   ]
  },
  {
   "cell_type": "markdown",
   "id": "cbf85b5b",
   "metadata": {},
   "source": [
    "##### Q1c. Explain what the true positive rate (TPR) and false positive rate (FPR) mean in the context of malware detection, and report their values."
   ]
  },
  {
   "cell_type": "markdown",
   "id": "68309c30",
   "metadata": {},
   "source": [
    "#TODO: Add your answer (explanation part)"
   ]
  },
  {
   "cell_type": "code",
   "execution_count": null,
   "id": "e82ca1ed",
   "metadata": {},
   "outputs": [],
   "source": [
    "# TODO: Compute TPR and FPR, and report their values"
   ]
  },
  {
   "cell_type": "markdown",
   "id": "cbdbde20",
   "metadata": {},
   "source": [
    "##### Q1d. Tune the regularization parameters so that the classifier achieves the maximum true positive rate (TPR) at a cost of approximately 2% false positive rate (FPR)."
   ]
  },
  {
   "cell_type": "code",
   "execution_count": null,
   "id": "a7d9b35e",
   "metadata": {},
   "outputs": [],
   "source": [
    "# TODO: Perform tuning loop and report final TPR and FPR"
   ]
  },
  {
   "cell_type": "markdown",
   "id": "0efcbf1d",
   "metadata": {},
   "source": [
    "#### Evasion Attacks\n",
    "These adversarial attacks can transform an input sample into an adversarial example by either adding or removing features, or both. Since removing features is risky in the malware domain, in this assignment we only consider adding features. Please note that the feature representations of Android apps in the prepared datasets are binary, including 1 and 0, meaning a certain feature—such as an API call—exists or does not exist. To add a feature, you simply change its value from 0 to 1."
   ]
  },
  {
   "cell_type": "markdown",
   "id": "8475f694",
   "metadata": {},
   "source": [
    "##### Q2. Implement the Random Attack (2 points)\n",
    "This attack **randomly adds new features** until the malware is misclassified as benign or the perturbation limit is reached."
   ]
  },
  {
   "cell_type": "code",
   "execution_count": null,
   "id": "131979ba",
   "metadata": {},
   "outputs": [],
   "source": [
    "def random_attack(x, no_modifiable_features, model):\n",
    "   # TODO \n",
    "    return x_adv, y_adv,cnt\n"
   ]
  },
  {
   "cell_type": "markdown",
   "id": "e3ba7a42",
   "metadata": {},
   "source": [
    "##### Q3. Implement the success rate metric (1 point) \n",
    "\n",
    "The success rate of an adversarial attack is defined as:\n",
    "\n",
    "$$\n",
    "S = 1 - \\frac{n_d}{n_t}\n",
    "$$\n",
    "\n",
    "Where:\n",
    "\n",
    "- $S$: Attack success rate  \n",
    "- $n_d$: Number of malware samples that are still detected after the attack  \n",
    "- $n_t$: Total number of malware samples subjected to the attack  \n",
    "\n",
    "A higher value of \\(S\\) indicates a more effective evasion attack. \n",
    "\n",
    "Implement this metric and apply it to the random attack.\n",
    "\n"
   ]
  },
  {
   "cell_type": "code",
   "execution_count": null,
   "id": "e978a7e8",
   "metadata": {},
   "outputs": [],
   "source": [
    "def calculate_success_rate(y_adv_malware_samples, adv_malware_samples): \n",
    "    #TODO: Write function to compute success_rate\n",
    "    return success_rate "
   ]
  },
  {
   "cell_type": "markdown",
   "id": "21a388fc",
   "metadata": {},
   "source": [
    "##### Q4. Random Attack Success Rate & Explain Results (1 points)\n",
    "Report the success rate by uxing the method you implemented. \n",
    "\n",
    "Explain:  \n",
    "- Why might the performance be low or high?"
   ]
  },
  {
   "cell_type": "code",
   "execution_count": null,
   "id": "7ac85b39",
   "metadata": {},
   "outputs": [],
   "source": [
    "# TODO: result calc"
   ]
  },
  {
   "cell_type": "markdown",
   "id": "c6d519d9",
   "metadata": {},
   "source": [
    "##### Q5. Implement PK-Greedy Attack (4 points)\n",
    "This attack ranks features by **magnitude of negative SVM weights** → Those strongly indicative of malware detection.\n",
    "\n",
    " Strategy:\n",
    "\n",
    "1️⃣ Sort features by negative impact on model’s decision.\n",
    "\n",
    "2️⃣ Add the most harmful ones first.\n",
    "\n",
    "3️⃣ Stop if misclassified as benign or the perturbation limit is reached.\n",
    "\n",
    "This typically outperforms random attacks.\n"
   ]
  },
  {
   "cell_type": "code",
   "execution_count": null,
   "id": "3f6ed569",
   "metadata": {},
   "outputs": [],
   "source": [
    "def pk_attack(x,no_modifiable_features,model):\n",
    "    #TODO \n",
    "    return x_adv,y_adv,cnt"
   ]
  },
  {
   "cell_type": "markdown",
   "id": "999ec69f",
   "metadata": {},
   "source": [
    "##### Q6. Measure performance of the PK-Greedy Attack (2 points) \n",
    "Report the success rate again and interpret why the succes rate is higher or lower. "
   ]
  },
  {
   "cell_type": "code",
   "execution_count": null,
   "id": "60fc1198",
   "metadata": {},
   "outputs": [],
   "source": [
    "# TODO: result calc "
   ]
  },
  {
   "cell_type": "markdown",
   "id": "c355a7aa",
   "metadata": {},
   "source": [
    "##### Q7. Relationship between perturbation bounds and attack strength (2 points)\n",
    "What is the relationship between the perturbation bounds and the strength of the attack? "
   ]
  },
  {
   "cell_type": "markdown",
   "id": "07cfbbf3",
   "metadata": {},
   "source": [
    "#TODO Add your answer "
   ]
  },
  {
   "cell_type": "markdown",
   "id": "7db1c5f3",
   "metadata": {},
   "source": [
    "##### Q8. Effect of changing no_modifiable_features across attacks (3 points)\n",
    "Change `no_modifiable_features` in both attacks, report and describe results. \n",
    "\n",
    "Pick representative budgets and run both attacks.  then describe: \n",
    "\n",
    "Plot or tabulate success rate vs. number of modifications.\n",
    "\n",
    "Describe how adding more features changes the success rates attack effectiveness.\n"
   ]
  },
  {
   "cell_type": "code",
   "execution_count": null,
   "id": "fd70893d",
   "metadata": {},
   "outputs": [],
   "source": [
    "# TODO"
   ]
  },
  {
   "cell_type": "markdown",
   "id": "08d1e46c",
   "metadata": {},
   "source": [
    "##### Q9. Which features change, hard cases, and realizability (3 points)\n",
    "Q9a. What are the top 10 common features that are changed when generating adversarial malware?  \n",
    "\n",
    "For all successful adversarial examples (across an attack or across both attacks), compute which feature indices were modified most often. Map the top-10 indices to feature_set (vectorizer feature names) and report them with counts and percentages. "
   ]
  },
  {
   "cell_type": "code",
   "execution_count": null,
   "id": "731aa1bc",
   "metadata": {},
   "outputs": [],
   "source": [
    "# TODO "
   ]
  },
  {
   "cell_type": "markdown",
   "id": "1bf2bdc2",
   "metadata": {},
   "source": [
    "Q9b. Hard cases: how many malware samples are \"hard\"? \n",
    "\n",
    "Define a \"hard case\" as a malware sample for which neither attack (or for a chosen attack) could flip it to benign within the perturbation budget. Count how many such samples exist in the attacked set.  \n",
    "Hint: For each malware sample, check if y_adv == 1 after the full budget for the attack — if yes, it’s a hard case for that attack."
   ]
  },
  {
   "cell_type": "code",
   "execution_count": null,
   "id": "44a3cfbb",
   "metadata": {},
   "outputs": [],
   "source": [
    "# TODO "
   ]
  },
  {
   "cell_type": "markdown",
   "id": "f831e8bb",
   "metadata": {},
   "source": [
    "Q9c. Are the adversarial examples realizable? Justify your answer. \n",
    "\n",
    "Provide a reasoned answer about whether the adversarial examples you produce (binary feature flips) could correspond to real, functioning malware once modified. Consider the feature representation and domain constraints explained in the lecture. "
   ]
  },
  {
   "cell_type": "markdown",
   "id": "bb1d21a0",
   "metadata": {},
   "source": [
    "#TODO Add your answer "
   ]
  },
  {
   "cell_type": "markdown",
   "id": "2e0087d9",
   "metadata": {},
   "source": [
    "##### Q10. Bonus: Improve PK (greedy) attack (2 points)\n",
    "Q10 (Bonus). PK attack is greedy and may miss the best perturbation. Propose and implement an improvement. \n",
    "\n",
    "Propose at least one algorithmic improvement and implement it. Compare the improved attack against PK and Random with the same perturbation budgets. "
   ]
  },
  {
   "cell_type": "code",
   "execution_count": null,
   "id": "8576b5ae",
   "metadata": {},
   "outputs": [],
   "source": [
    "# TODO "
   ]
  }
 ],
 "metadata": {
  "kernelspec": {
   "display_name": "venv (3.13.5)",
   "language": "python",
   "name": "python3"
  },
  "language_info": {
   "codemirror_mode": {
    "name": "ipython",
    "version": 3
   },
   "file_extension": ".py",
   "mimetype": "text/x-python",
   "name": "python",
   "nbconvert_exporter": "python",
   "pygments_lexer": "ipython3",
   "version": "3.13.5"
  }
 },
 "nbformat": 4,
 "nbformat_minor": 5
}
